{
 "cells": [
  {
   "cell_type": "code",
   "execution_count": 3,
   "metadata": {},
   "outputs": [
    {
     "ename": "NameError",
     "evalue": "name 'apiKey' is not defined",
     "output_type": "error",
     "traceback": [
      "\u001b[0;31m---------------------------------------------------------------------------\u001b[0m",
      "\u001b[0;31mNameError\u001b[0m                                 Traceback (most recent call last)",
      "\u001b[0;32m<ipython-input-3-67d42cbd89ca>\u001b[0m in \u001b[0;36m<module>\u001b[0;34m\u001b[0m\n\u001b[1;32m      4\u001b[0m \u001b[0;34m\u001b[0m\u001b[0m\n\u001b[1;32m      5\u001b[0m \u001b[0murl\u001b[0m \u001b[0;34m=\u001b[0m \u001b[0;34m\"http://139.59.90.214/connect-everything/assettype/getforuser\"\u001b[0m\u001b[0;34m\u001b[0m\u001b[0;34m\u001b[0m\u001b[0m\n\u001b[0;32m----> 6\u001b[0;31m headers = { apiKey: 'PUBLIC',\n\u001b[0m\u001b[1;32m      7\u001b[0m            Accept: 'application/json'}\n\u001b[1;32m      8\u001b[0m \u001b[0;34m\u001b[0m\u001b[0m\n",
      "\u001b[0;31mNameError\u001b[0m: name 'apiKey' is not defined"
     ]
    }
   ],
   "source": [
    "#GET request\n",
    "\n",
    "import requests\n",
    "\n",
    "url = \"http://139.59.90.214/connect-everything/assettype/getforuser\"\n",
    "headers = {projectId: '12345',\n",
    "           apiKey: 'PUBLIC',\n",
    "           Accept: 'application/json'}\n",
    "\n",
    "r = requests.get(url=url,headers = headers)"
   ]
  },
  {
   "cell_type": "code",
   "execution_count": 14,
   "metadata": {},
   "outputs": [
    {
     "name": "stdout",
     "output_type": "stream",
     "text": [
      "<class 'str'>\n"
     ]
    }
   ],
   "source": [
    "import urllib.parse as urlparse\n",
    "from urllib.parse import parse_qs\n",
    "url = 'http://127.0.0.1:5000/api/createOTP/[[obj.prop.bookingId]]'\n",
    "parsed = urlparse.urlparse(url)\n",
    "print(parsed.path)\n",
    "\n",
    "key = \"obj.prop.bookingId\"\n",
    "\n",
    "\n",
    "\n",
    "# print(parse_qs(parsed.query)[''])"
   ]
  },
  {
   "cell_type": "code",
   "execution_count": 11,
   "metadata": {},
   "outputs": [
    {
     "name": "stdout",
     "output_type": "stream",
     "text": [
      "<!doctype html><html lang=\"en\"><head><title>HTTP Status 415 – Unsupported Media Type</title><style type=\"text/css\">body {font-family:Tahoma,Arial,sans-serif;} h1, h2, h3, b {color:white;background-color:#525D76;} h1 {font-size:22px;} h2 {font-size:16px;} h3 {font-size:14px;} p {font-size:12px;} a {color:black;} .line {height:1px;background-color:#525D76;border:none;}</style></head><body><h1>HTTP Status 415 – Unsupported Media Type</h1><hr class=\"line\" /><p><b>Type</b> Status Report</p><p><b>Description</b> The origin server is refusing to service the request because the payload is in a format not supported by this method on the target resource.</p><hr class=\"line\" /><h3>Apache Tomcat/9.0.33</h3></body></html>\n"
     ]
    }
   ],
   "source": [
    "# POST METHOD\n",
    "\n",
    "import requests\n",
    "\n",
    "url = 'http://139.59.90.214/connect-user/user/login'\n",
    "\n",
    "myobj = {\"Username\": \"websofttech\", \"password\": \"password\"}\n",
    "\n",
    "x = requests.post(url, data= myobj, headers = {\"Accept\":\"application/json\"})\n",
    "\n",
    "print(x.text)"
   ]
  },
  {
   "cell_type": "code",
   "execution_count": 9,
   "metadata": {},
   "outputs": [
    {
     "name": "stdout",
     "output_type": "stream",
     "text": [
      "{\"status\":true,\"status_code\":200,\"message\":\"List of all asset types\",\"response\":[]}\n"
     ]
    }
   ],
   "source": [
    "# GET METHOD \n",
    "\n",
    "import requests\n",
    "\n",
    "url = 'http://139.59.90.214/connect-everything/assettype/getforuser'\n",
    "\n",
    "headers = { \"projectId\": '12345',\n",
    "           \"apiKey\": 'PUBLIC',\n",
    "           \"Accept\": 'application/json'\n",
    "          }\n",
    "\n",
    "x = requests.get(url, headers = headers)\n",
    "\n",
    "print(x.text)"
   ]
  },
  {
   "cell_type": "code",
   "execution_count": 4,
   "metadata": {},
   "outputs": [
    {
     "name": "stdout",
     "output_type": "stream",
     "text": [
      "Response1 content :   b'<!doctype html><html lang=\"en\"><head><title>HTTP Status 405 \\xe2\\x80\\x93 Method Not Allowed</title><style type=\"text/css\">body {font-family:Tahoma,Arial,sans-serif;} h1, h2, h3, b {color:white;background-color:#525D76;} h1 {font-size:22px;} h2 {font-size:16px;} h3 {font-size:14px;} p {font-size:12px;} a {color:black;} .line {height:1px;background-color:#525D76;border:none;}</style></head><body><h1>HTTP Status 405 \\xe2\\x80\\x93 Method Not Allowed</h1><hr class=\"line\" /><p><b>Type</b> Status Report</p><p><b>Message</b> Request method &#39;PUT&#39; not supported</p><p><b>Description</b> The method received in the request-line is known by the origin server but not supported by the target resource.</p><hr class=\"line\" /><h3>Apache Tomcat/9.0.33</h3></body></html>'\n",
      "------------------------------\n",
      "b'{\"status_code\":901,\"status\":false,\"message\":\"Public Key Or Server Key Is Missing In Header\"}\\n'\n"
     ]
    }
   ],
   "source": [
    "# PUT METHOD\n",
    "\n",
    "import requests\n",
    "\n",
    "url1 = \"http://139.59.90.214/connect-user/user/login\"\n",
    "\n",
    "myobj1 = {\"Username\": \"websofttech\", \"password\": \"password\"}\n",
    "\n",
    "response1 = requests.put(url = url1, data= myobj1)\n",
    "\n",
    "print( \"Response1 content :  \",response1.content)\n",
    "\n",
    "print(\"------------------------------\")\n",
    "\n",
    "url2 = \"http://139.59.90.214/connect-everything/assettype/getforuser\"\n",
    "\n",
    "myobj2 = { \"projectId\": '12345',\n",
    "           \"apiKey\": 'PUBLIC',\n",
    "           \"Accept\": 'application/json'\n",
    "          }\n",
    "\n",
    "response2 = requests.put(url = url2, data= myobj2)\n",
    "\n",
    "print(response2.content)\n",
    "\n"
   ]
  },
  {
   "cell_type": "code",
   "execution_count": 5,
   "metadata": {},
   "outputs": [
    {
     "name": "stdout",
     "output_type": "stream",
     "text": [
      "<Response [901]>\n",
      "{'status_code': 901, 'status': False, 'message': 'Public Key Or Server Key Is Missing In Header'}\n"
     ]
    }
   ],
   "source": [
    "# DELETE METHOD\n",
    "\n",
    "\n",
    "import requests \n",
    "  \n",
    "myobj2 = { \"projectId\": '12345',\n",
    "           \"apiKey\": 'PUBLIC',\n",
    "           \"Accept\": 'application/json'\n",
    "          }\n",
    "\n",
    "# Making a DELETE request \n",
    "r = requests.delete('http://139.59.90.214/connect-everything/assettype/getforuser', data = myobj2) \n",
    "  \n",
    "# check status code for response received \n",
    "# success code - 200 \n",
    "print(r) \n",
    "  \n",
    "# print content of request \n",
    "print(r.json()) \n",
    "\n",
    "\n"
   ]
  }
 ],
 "metadata": {
  "kernelspec": {
   "display_name": "Python 3",
   "language": "python",
   "name": "python3"
  },
  "language_info": {
   "codemirror_mode": {
    "name": "ipython",
    "version": 3
   },
   "file_extension": ".py",
   "mimetype": "text/x-python",
   "name": "python",
   "nbconvert_exporter": "python",
   "pygments_lexer": "ipython3",
   "version": "3.7.6"
  }
 },
 "nbformat": 4,
 "nbformat_minor": 4
}
