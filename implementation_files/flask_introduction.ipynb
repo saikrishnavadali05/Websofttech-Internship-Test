{
 "cells": [
  {
   "cell_type": "code",
   "execution_count": 2,
   "metadata": {},
   "outputs": [
    {
     "name": "stdout",
     "output_type": "stream",
     "text": [
      "Collecting virtualenv\n",
      "  Downloading virtualenv-20.0.20-py2.py3-none-any.whl (4.7 MB)\n",
      "\u001b[K     |████████████████████████████████| 4.7 MB 43 kB/s eta 0:00:017\n",
      "\u001b[?25hRequirement already satisfied: importlib-metadata<2,>=0.12; python_version < \"3.8\" in /home/saikrishna/anaconda3/lib/python3.7/site-packages (from virtualenv) (1.5.0)\n",
      "Collecting distlib<1,>=0.3.0\n",
      "  Downloading distlib-0.3.0.zip (571 kB)\n",
      "\u001b[K     |████████████████████████████████| 571 kB 38 kB/s eta 0:00:01\n",
      "\u001b[?25hCollecting appdirs<2,>=1.4.3\n",
      "  Downloading appdirs-1.4.4-py2.py3-none-any.whl (9.6 kB)\n",
      "Requirement already satisfied: filelock<4,>=3.0.0 in /home/saikrishna/anaconda3/lib/python3.7/site-packages (from virtualenv) (3.0.12)\n",
      "Requirement already satisfied: six<2,>=1.9.0 in /home/saikrishna/anaconda3/lib/python3.7/site-packages (from virtualenv) (1.14.0)\n",
      "Requirement already satisfied: zipp>=0.5 in /home/saikrishna/anaconda3/lib/python3.7/site-packages (from importlib-metadata<2,>=0.12; python_version < \"3.8\"->virtualenv) (2.2.0)\n",
      "Building wheels for collected packages: distlib\n",
      "  Building wheel for distlib (setup.py) ... \u001b[?25ldone\n",
      "\u001b[?25h  Created wheel for distlib: filename=distlib-0.3.0-py3-none-any.whl size=340427 sha256=f2115cf2dae711db3eecefdc8798aea535ee4d94697e6dd4d5134042fb196d06\n",
      "  Stored in directory: /home/saikrishna/.cache/pip/wheels/a2/19/da/a15d4e2bedf3062c739b190d5cb5b7b2ecfbccb6b0d93c861b\n",
      "Successfully built distlib\n",
      "Installing collected packages: distlib, appdirs, virtualenv\n",
      "Successfully installed appdirs-1.4.4 distlib-0.3.0 virtualenv-20.0.20\n"
     ]
    }
   ],
   "source": [
    "!pip install virtualenv\n"
   ]
  },
  {
   "cell_type": "code",
   "execution_count": 5,
   "metadata": {},
   "outputs": [
    {
     "name": "stdout",
     "output_type": "stream",
     "text": [
      "Collecting virtualenv\n",
      "\u001b[33m  Cache entry deserialization failed, entry ignored\u001b[0m\n",
      "\u001b[33m  Cache entry deserialization failed, entry ignored\u001b[0m\n",
      "  Downloading https://files.pythonhosted.org/packages/9b/67/f28095ba538be54fc48ec7774d5778a7246972cf8c701430ec0c96bf0860/virtualenv-20.0.20-py2.py3-none-any.whl (4.7MB)\n",
      "\u001b[K    100% |████████████████████████████████| 4.7MB 61kB/s ta 0:00:0121\n",
      "\u001b[?25hCollecting importlib-resources<2,>=1.0; python_version < \"3.7\" (from virtualenv)\n",
      "  Downloading https://files.pythonhosted.org/packages/7f/2d/88f166bcaadc09d9fdbf1c336ad118e01b7fe1155e15675e125be2ff1899/importlib_resources-1.5.0-py2.py3-none-any.whl\n",
      "Collecting filelock<4,>=3.0.0 (from virtualenv)\n",
      "  Downloading https://files.pythonhosted.org/packages/93/83/71a2ee6158bb9f39a90c0dea1637f81d5eef866e188e1971a1b1ab01a35a/filelock-3.0.12-py3-none-any.whl\n",
      "Collecting six<2,>=1.9.0 (from virtualenv)\n",
      "  Downloading https://files.pythonhosted.org/packages/65/eb/1f97cb97bfc2390a276969c6fae16075da282f5058082d4cb10c6c5c1dba/six-1.14.0-py2.py3-none-any.whl\n",
      "Collecting importlib-metadata<2,>=0.12; python_version < \"3.8\" (from virtualenv)\n",
      "  Downloading https://files.pythonhosted.org/packages/ad/e4/891bfcaf868ccabc619942f27940c77a8a4b45fd8367098955bb7e152fb1/importlib_metadata-1.6.0-py2.py3-none-any.whl\n",
      "Collecting distlib<1,>=0.3.0 (from virtualenv)\n",
      "\u001b[33m  Cache entry deserialization failed, entry ignored\u001b[0m\n",
      "\u001b[33m  Cache entry deserialization failed, entry ignored\u001b[0m\n",
      "  Downloading https://files.pythonhosted.org/packages/7d/29/694a3a4d7c0e1aef76092e9167fbe372e0f7da055f5dcf4e1313ec21d96a/distlib-0.3.0.zip (571kB)\n",
      "\u001b[K    100% |████████████████████████████████| 573kB 82kB/s ta 0:00:01   14% |████▋                           | 81kB 43kB/s eta 0:00:12\n",
      "\u001b[?25hCollecting appdirs<2,>=1.4.3 (from virtualenv)\n",
      "\u001b[33m  Cache entry deserialization failed, entry ignored\u001b[0m\n",
      "\u001b[33m  Cache entry deserialization failed, entry ignored\u001b[0m\n",
      "  Downloading https://files.pythonhosted.org/packages/3b/00/2344469e2084fb287c2e0b57b72910309874c3245463acd6cf5e3db69324/appdirs-1.4.4-py2.py3-none-any.whl\n",
      "Collecting zipp>=0.4; python_version < \"3.8\" (from importlib-resources<2,>=1.0; python_version < \"3.7\"->virtualenv)\n",
      "  Downloading https://files.pythonhosted.org/packages/b2/34/bfcb43cc0ba81f527bc4f40ef41ba2ff4080e047acb0586b56b3d017ace4/zipp-3.1.0-py3-none-any.whl\n",
      "Building wheels for collected packages: distlib\n",
      "  Running setup.py bdist_wheel for distlib ... \u001b[?25ldone\n",
      "\u001b[?25h  Stored in directory: /home/saikrishna/.cache/pip/wheels/6e/e8/db/c73dae4867666e89ba3cfbc4b5c092446f0e584eda6f409cbb\n",
      "Successfully built distlib\n",
      "Installing collected packages: zipp, importlib-metadata, importlib-resources, filelock, six, distlib, appdirs, virtualenv\n",
      "Successfully installed appdirs-1.4.4 distlib-0.3.0 filelock-3.0.12 importlib-metadata-1.6.0 importlib-resources-1.5.0 six-1.14.0 virtualenv-20.0.20 zipp-3.1.0\n"
     ]
    }
   ],
   "source": [
    "!pip3 install virtualenv"
   ]
  },
  {
   "cell_type": "code",
   "execution_count": 6,
   "metadata": {},
   "outputs": [
    {
     "name": "stdout",
     "output_type": "stream",
     "text": [
      "created virtual environment CPython3.7.6.final.0-64 in 1162ms\r\n",
      "  creator CPython3Posix(dest=/home/saikrishna/Desktop/internship/env, clear=False, global=False)\r\n",
      "  seeder FromAppData(download=False, pip=latest, setuptools=latest, wheel=latest, via=copy, app_data_dir=/home/saikrishna/.local/share/virtualenv/seed-app-data/v1.0.1)\r\n",
      "  activators BashActivator,CShellActivator,FishActivator,PowerShellActivator,PythonActivator,XonshActivator\r\n"
     ]
    }
   ],
   "source": [
    "!virtualenv env"
   ]
  },
  {
   "cell_type": "code",
   "execution_count": 8,
   "metadata": {},
   "outputs": [
    {
     "name": "stdout",
     "output_type": "stream",
     "text": [
      "/bin/sh: 1: source: not found\r\n"
     ]
    }
   ],
   "source": [
    "!p"
   ]
  }
 ],
 "metadata": {
  "kernelspec": {
   "display_name": "Python 3",
   "language": "python",
   "name": "python3"
  },
  "language_info": {
   "codemirror_mode": {
    "name": "ipython",
    "version": 3
   },
   "file_extension": ".py",
   "mimetype": "text/x-python",
   "name": "python",
   "nbconvert_exporter": "python",
   "pygments_lexer": "ipython3",
   "version": "3.7.6"
  }
 },
 "nbformat": 4,
 "nbformat_minor": 4
}
